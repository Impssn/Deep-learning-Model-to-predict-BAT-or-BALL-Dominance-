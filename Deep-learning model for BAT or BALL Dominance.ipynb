{
  "cells": [
    {
      "cell_type": "markdown",
      "source": [
        "**ANN Deep learning model to predict if a Cricket Match is BAT or BALL dominated**"
      ],
      "metadata": {
        "id": "ehRKUc65XvU3"
      },
      "id": "ehRKUc65XvU3"
    },
    {
      "cell_type": "markdown",
      "source": [
        "**Necessary Importations of Libraries and Packages :**"
      ],
      "metadata": {
        "id": "cEac-pwOYDnP"
      },
      "id": "cEac-pwOYDnP"
    },
    {
      "cell_type": "code",
      "execution_count": 141,
      "id": "d7135bc9",
      "metadata": {
        "id": "d7135bc9"
      },
      "outputs": [],
      "source": [
        "import tensorflow as tensorfloww\n",
        "import keras\n",
        "from keras.models import Sequential\n",
        "from keras.layers import Dense\n",
        "from tensorflow.keras.optimizers import Adagrad\n",
        "from tensorflow.keras.callbacks import EarlyStopping\n",
        "import pandas as pd\n",
        "import numpy as np\n",
        "from sklearn.model_selection import train_test_split\n",
        "from sklearn.preprocessing import StandardScaler\n",
        "from sklearn import preprocessing\n",
        "import matplotlib.pyplot as plt\n",
        "from google.colab import files\n",
        "from keras.layers import LeakyReLU\n",
        "import io"
      ]
    },
    {
      "cell_type": "markdown",
      "source": [
        "**Loading the Dataset :**"
      ],
      "metadata": {
        "id": "MNzeGvybYRaJ"
      },
      "id": "MNzeGvybYRaJ"
    },
    {
      "cell_type": "code",
      "execution_count": 3,
      "id": "b4e97dfc",
      "metadata": {
        "colab": {
          "resources": {
            "http://localhost:8080/nbextensions/google.colab/files.js": {
              "data": "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",
              "ok": true,
              "headers": [
                [
                  "content-type",
                  "application/javascript"
                ]
              ],
              "status": 200,
              "status_text": ""
            }
          },
          "base_uri": "https://localhost:8080/",
          "height": 73
        },
        "id": "b4e97dfc",
        "outputId": "c2965425-a267-4fed-d0c9-654390aaed09"
      },
      "outputs": [
        {
          "output_type": "display_data",
          "data": {
            "text/html": [
              "\n",
              "     <input type=\"file\" id=\"files-b5aeeadf-44b0-4170-bd81-48bf06e52097\" name=\"files[]\" multiple disabled\n",
              "        style=\"border:none\" />\n",
              "     <output id=\"result-b5aeeadf-44b0-4170-bd81-48bf06e52097\">\n",
              "      Upload widget is only available when the cell has been executed in the\n",
              "      current browser session. Please rerun this cell to enable.\n",
              "      </output>\n",
              "      <script src=\"/nbextensions/google.colab/files.js\"></script> "
            ],
            "text/plain": [
              "<IPython.core.display.HTML object>"
            ]
          },
          "metadata": {}
        },
        {
          "output_type": "stream",
          "name": "stdout",
          "text": [
            "Saving IPL Matches 2008-2020.csv to IPL Matches 2008-2020.csv\n"
          ]
        }
      ],
      "source": [
        "uploaded = files.upload()"
      ]
    },
    {
      "cell_type": "markdown",
      "source": [
        "**Converting the Input dataset into .csv file :**"
      ],
      "metadata": {
        "id": "a6-A7PybYlQ1"
      },
      "id": "a6-A7PybYlQ1"
    },
    {
      "cell_type": "code",
      "source": [
        "df = pd.read_csv(io.BytesIO(uploaded['IPL Matches 2008-2020.csv']))"
      ],
      "metadata": {
        "id": "ws1z3HILRLtA"
      },
      "id": "ws1z3HILRLtA",
      "execution_count": 4,
      "outputs": []
    },
    {
      "cell_type": "markdown",
      "source": [
        "**Meta-data of the Dataset :**"
      ],
      "metadata": {
        "id": "N_o7dQf6Ywwe"
      },
      "id": "N_o7dQf6Ywwe"
    },
    {
      "cell_type": "code",
      "execution_count": 5,
      "id": "3f21b14a",
      "metadata": {
        "colab": {
          "base_uri": "https://localhost:8080/"
        },
        "id": "3f21b14a",
        "outputId": "487c2611-096a-454d-b529-e57a911b8fd6"
      },
      "outputs": [
        {
          "output_type": "stream",
          "name": "stdout",
          "text": [
            "(816, 17)\n"
          ]
        }
      ],
      "source": [
        "print(df.shape)"
      ]
    },
    {
      "cell_type": "code",
      "execution_count": 6,
      "id": "861838a4",
      "metadata": {
        "colab": {
          "base_uri": "https://localhost:8080/"
        },
        "id": "861838a4",
        "outputId": "e31d49f9-580d-4353-be78-58646103f857"
      },
      "outputs": [
        {
          "output_type": "stream",
          "name": "stdout",
          "text": [
            "id                   int64\n",
            "city                object\n",
            "date                object\n",
            "player_of_match     object\n",
            "venue               object\n",
            "neutral_venue        int64\n",
            "team1               object\n",
            "team2               object\n",
            "toss_winner         object\n",
            "toss_decision       object\n",
            "winner              object\n",
            "result              object\n",
            "result_margin      float64\n",
            "eliminator          object\n",
            "method              object\n",
            "umpire1             object\n",
            "umpire2             object\n",
            "dtype: object\n"
          ]
        }
      ],
      "source": [
        "print(df.dtypes)"
      ]
    },
    {
      "cell_type": "code",
      "execution_count": 7,
      "id": "f128b2f6",
      "metadata": {
        "colab": {
          "base_uri": "https://localhost:8080/"
        },
        "id": "f128b2f6",
        "outputId": "4cafb3b7-fd44-4c7d-9570-642aeec11bf1"
      },
      "outputs": [
        {
          "output_type": "stream",
          "name": "stdout",
          "text": [
            "<bound method NDFrame.head of           id        city        date player_of_match  \\\n",
            "0     335982   Bangalore  2008-04-18     BB McCullum   \n",
            "1     335983  Chandigarh  2008-04-19      MEK Hussey   \n",
            "2     335984       Delhi  2008-04-19     MF Maharoof   \n",
            "3     335985      Mumbai  2008-04-20      MV Boucher   \n",
            "4     335986     Kolkata  2008-04-20       DJ Hussey   \n",
            "..       ...         ...         ...             ...   \n",
            "811  1216547       Dubai  2020-09-28  AB de Villiers   \n",
            "812  1237177       Dubai  2020-11-05       JJ Bumrah   \n",
            "813  1237178   Abu Dhabi  2020-11-06   KS Williamson   \n",
            "814  1237180   Abu Dhabi  2020-11-08      MP Stoinis   \n",
            "815  1237181       Dubai  2020-11-10        TA Boult   \n",
            "\n",
            "                                          venue  neutral_venue  \\\n",
            "0                         M Chinnaswamy Stadium              0   \n",
            "1    Punjab Cricket Association Stadium, Mohali              0   \n",
            "2                              Feroz Shah Kotla              0   \n",
            "3                              Wankhede Stadium              0   \n",
            "4                                  Eden Gardens              0   \n",
            "..                                          ...            ...   \n",
            "811         Dubai International Cricket Stadium              0   \n",
            "812         Dubai International Cricket Stadium              0   \n",
            "813                        Sheikh Zayed Stadium              0   \n",
            "814                        Sheikh Zayed Stadium              0   \n",
            "815         Dubai International Cricket Stadium              0   \n",
            "\n",
            "                           team1                        team2  \\\n",
            "0    Royal Challengers Bangalore        Kolkata Knight Riders   \n",
            "1                Kings XI Punjab          Chennai Super Kings   \n",
            "2               Delhi Daredevils             Rajasthan Royals   \n",
            "3                 Mumbai Indians  Royal Challengers Bangalore   \n",
            "4          Kolkata Knight Riders              Deccan Chargers   \n",
            "..                           ...                          ...   \n",
            "811  Royal Challengers Bangalore               Mumbai Indians   \n",
            "812               Mumbai Indians               Delhi Capitals   \n",
            "813  Royal Challengers Bangalore          Sunrisers Hyderabad   \n",
            "814               Delhi Capitals          Sunrisers Hyderabad   \n",
            "815               Delhi Capitals               Mumbai Indians   \n",
            "\n",
            "                     toss_winner toss_decision                       winner  \\\n",
            "0    Royal Challengers Bangalore         field        Kolkata Knight Riders   \n",
            "1            Chennai Super Kings           bat          Chennai Super Kings   \n",
            "2               Rajasthan Royals           bat             Delhi Daredevils   \n",
            "3                 Mumbai Indians           bat  Royal Challengers Bangalore   \n",
            "4                Deccan Chargers           bat        Kolkata Knight Riders   \n",
            "..                           ...           ...                          ...   \n",
            "811               Mumbai Indians         field  Royal Challengers Bangalore   \n",
            "812               Delhi Capitals         field               Mumbai Indians   \n",
            "813          Sunrisers Hyderabad         field          Sunrisers Hyderabad   \n",
            "814               Delhi Capitals           bat               Delhi Capitals   \n",
            "815               Delhi Capitals           bat               Mumbai Indians   \n",
            "\n",
            "      result  result_margin eliminator method      umpire1         umpire2  \n",
            "0       runs          140.0          N    NaN    Asad Rauf     RE Koertzen  \n",
            "1       runs           33.0          N    NaN    MR Benson      SL Shastri  \n",
            "2    wickets            9.0          N    NaN    Aleem Dar  GA Pratapkumar  \n",
            "3    wickets            5.0          N    NaN     SJ Davis       DJ Harper  \n",
            "4    wickets            5.0          N    NaN    BF Bowden     K Hariharan  \n",
            "..       ...            ...        ...    ...          ...             ...  \n",
            "811      tie            NaN          Y    NaN  Nitin Menon      PR Reiffel  \n",
            "812     runs           57.0          N    NaN  CB Gaffaney     Nitin Menon  \n",
            "813  wickets            6.0          N    NaN   PR Reiffel          S Ravi  \n",
            "814     runs           17.0          N    NaN   PR Reiffel          S Ravi  \n",
            "815  wickets            5.0          N    NaN  CB Gaffaney     Nitin Menon  \n",
            "\n",
            "[816 rows x 17 columns]>\n"
          ]
        }
      ],
      "source": [
        "print(df.head)"
      ]
    },
    {
      "cell_type": "code",
      "source": [
        "print(df.corr(method = 'pearson'))"
      ],
      "metadata": {
        "colab": {
          "base_uri": "https://localhost:8080/"
        },
        "id": "Tgs6JrrDRrfi",
        "outputId": "9ba0d577-f5c0-462d-fa4a-98d48b0a9796"
      },
      "id": "Tgs6JrrDRrfi",
      "execution_count": 8,
      "outputs": [
        {
          "output_type": "stream",
          "name": "stdout",
          "text": [
            "                     id  neutral_venue  result_margin\n",
            "id             1.000000      -0.292042      -0.010501\n",
            "neutral_venue -0.292042       1.000000      -0.006445\n",
            "result_margin -0.010501      -0.006445       1.000000\n"
          ]
        }
      ]
    },
    {
      "cell_type": "markdown",
      "source": [
        "**Data Preparation and Data cleaning :**"
      ],
      "metadata": {
        "id": "ujDA_2wSZH3u"
      },
      "id": "ujDA_2wSZH3u"
    },
    {
      "cell_type": "code",
      "source": [
        "df.loc[(df.toss_decision == 'bat'),'toss_decision'] = 1\n",
        "df.loc[(df.toss_decision == 'field'),'toss_decision'] = 0"
      ],
      "metadata": {
        "id": "AzBUWo2-TNoZ"
      },
      "id": "AzBUWo2-TNoZ",
      "execution_count": 9,
      "outputs": []
    },
    {
      "cell_type": "code",
      "source": [
        "print(df['toss_decision'])\n",
        "df['toss_decision'] = df['toss_decision'].astype(int)"
      ],
      "metadata": {
        "colab": {
          "base_uri": "https://localhost:8080/"
        },
        "id": "LBYbNZYnUEHx",
        "outputId": "f2ca885d-5516-4794-c6d7-e1f6531325d1"
      },
      "id": "LBYbNZYnUEHx",
      "execution_count": 10,
      "outputs": [
        {
          "output_type": "stream",
          "name": "stdout",
          "text": [
            "0      0\n",
            "1      1\n",
            "2      1\n",
            "3      1\n",
            "4      1\n",
            "      ..\n",
            "811    0\n",
            "812    0\n",
            "813    0\n",
            "814    1\n",
            "815    1\n",
            "Name: toss_decision, Length: 816, dtype: object\n"
          ]
        }
      ]
    },
    {
      "cell_type": "code",
      "source": [
        "df.loc[(df.result == 'runs'),'result'] = 1\n",
        "df.loc[(df.result == 'wickets'),'result'] = 0\n",
        "df.loc[(df.result == 'tie'),'result'] = 1\n",
        "df.loc[(df.eliminator == 'N'),'eliminator'] = 0\n",
        "df.loc[(df.eliminator == 'Y'),'eliminator'] = 1"
      ],
      "metadata": {
        "id": "178-D8kKUvYA"
      },
      "id": "178-D8kKUvYA",
      "execution_count": 131,
      "outputs": []
    },
    {
      "cell_type": "code",
      "source": [
        "print(df['result'])"
      ],
      "metadata": {
        "colab": {
          "base_uri": "https://localhost:8080/"
        },
        "id": "Wc_1HKodWTRn",
        "outputId": "11a07dfd-87e2-454f-9c3c-87e947dcb227"
      },
      "id": "Wc_1HKodWTRn",
      "execution_count": 12,
      "outputs": [
        {
          "output_type": "stream",
          "name": "stdout",
          "text": [
            "0      1\n",
            "1      1\n",
            "2      0\n",
            "3      0\n",
            "4      0\n",
            "      ..\n",
            "811    2\n",
            "812    1\n",
            "813    0\n",
            "814    1\n",
            "815    0\n",
            "Name: result, Length: 816, dtype: object\n"
          ]
        }
      ]
    },
    {
      "cell_type": "code",
      "source": [
        "print(df['eliminator'])"
      ],
      "metadata": {
        "colab": {
          "base_uri": "https://localhost:8080/"
        },
        "id": "dnvtbCR_Ws2N",
        "outputId": "3604b3ae-e1c6-4a19-dd91-849be90b56fb"
      },
      "id": "dnvtbCR_Ws2N",
      "execution_count": 13,
      "outputs": [
        {
          "output_type": "stream",
          "name": "stdout",
          "text": [
            "0      0\n",
            "1      0\n",
            "2      0\n",
            "3      0\n",
            "4      0\n",
            "      ..\n",
            "811    1\n",
            "812    0\n",
            "813    0\n",
            "814    0\n",
            "815    0\n",
            "Name: eliminator, Length: 816, dtype: object\n"
          ]
        }
      ]
    },
    {
      "cell_type": "code",
      "source": [
        "df = df.drop(labels = ['method'],axis=1)"
      ],
      "metadata": {
        "id": "KGnokkXCYsBX"
      },
      "id": "KGnokkXCYsBX",
      "execution_count": 14,
      "outputs": []
    },
    {
      "cell_type": "code",
      "source": [
        "df = df.dropna()"
      ],
      "metadata": {
        "id": "zHn3IWdtY5sm"
      },
      "id": "zHn3IWdtY5sm",
      "execution_count": 15,
      "outputs": []
    },
    {
      "cell_type": "code",
      "source": [
        "print(df.shape)"
      ],
      "metadata": {
        "colab": {
          "base_uri": "https://localhost:8080/"
        },
        "id": "2ms3WW-WY80P",
        "outputId": "64b85e46-12d8-454e-b73a-e48216e798c5"
      },
      "id": "2ms3WW-WY80P",
      "execution_count": 16,
      "outputs": [
        {
          "output_type": "stream",
          "name": "stdout",
          "text": [
            "(786, 16)\n"
          ]
        }
      ]
    },
    {
      "cell_type": "code",
      "source": [
        "df['eliminator']  = df['eliminator'].astype(int)\n",
        "df['result'] = df['result'].astype(int)"
      ],
      "metadata": {
        "id": "MclxubRcW1aH"
      },
      "id": "MclxubRcW1aH",
      "execution_count": 17,
      "outputs": []
    },
    {
      "cell_type": "code",
      "source": [
        "print(df['team1'].unique())\n",
        "print(df['team2'].unique())"
      ],
      "metadata": {
        "colab": {
          "base_uri": "https://localhost:8080/"
        },
        "id": "amVPACaJaD2v",
        "outputId": "2b9d6c0b-9dd8-4589-d615-817411b82303"
      },
      "id": "amVPACaJaD2v",
      "execution_count": 18,
      "outputs": [
        {
          "output_type": "stream",
          "name": "stdout",
          "text": [
            "['Royal Challengers Bangalore' 'Kings XI Punjab' 'Delhi Daredevils'\n",
            " 'Mumbai Indians' 'Kolkata Knight Riders' 'Rajasthan Royals'\n",
            " 'Deccan Chargers' 'Chennai Super Kings' 'Kochi Tuskers Kerala'\n",
            " 'Pune Warriors' 'Sunrisers Hyderabad' 'Gujarat Lions'\n",
            " 'Rising Pune Supergiants' 'Rising Pune Supergiant' 'Delhi Capitals']\n",
            "['Kolkata Knight Riders' 'Chennai Super Kings' 'Rajasthan Royals'\n",
            " 'Royal Challengers Bangalore' 'Deccan Chargers' 'Kings XI Punjab'\n",
            " 'Delhi Daredevils' 'Mumbai Indians' 'Kochi Tuskers Kerala'\n",
            " 'Pune Warriors' 'Sunrisers Hyderabad' 'Rising Pune Supergiants'\n",
            " 'Gujarat Lions' 'Rising Pune Supergiant' 'Delhi Capitals']\n"
          ]
        }
      ]
    },
    {
      "cell_type": "markdown",
      "source": [
        "**Unique ID assigned for every Individual Team :**"
      ],
      "metadata": {
        "id": "_TAye7IcZTTb"
      },
      "id": "_TAye7IcZTTb"
    },
    {
      "cell_type": "code",
      "source": [
        "df.loc[(df.team1 == 'Royal Challengers Bangalore'),'team1'] = 1\n",
        "df.loc[(df.team2 == 'Royal Challengers Bangalore'),'team2'] = 1\n",
        "df.loc[(df.winner == 'Royal Challengers Bangalore'),'winner'] = 1\n",
        "df.loc[(df.toss_winner == 'Royal Challengers Bangalore'),'toss_winner'] = 1\n",
        "df.loc[(df.team1 == 'Kings XI Punjab'),'team1'] = 2\n",
        "df.loc[(df.team2 == 'Kings XI Punjab'),'team2'] = 2\n",
        "df.loc[(df.winner == 'Kings XI Punjab'),'winner'] = 2\n",
        "df.loc[(df.toss_winner == 'Kings XI Punjab'),'toss_winner'] = 2\n",
        "df.loc[(df.team1 == 'Delhi Daredevils'),'team1'] = 3\n",
        "df.loc[(df.team2 == 'Delhi Daredevils'),'team2'] = 3\n",
        "df.loc[(df.winner == 'Delhi Daredevils'),'winner'] = 3\n",
        "df.loc[(df.toss_winner == 'Delhi Daredevils'),'toss_winner'] = 3\n",
        "df.loc[(df.team1 == 'Mumbai Indians'),'team1'] = 4\n",
        "df.loc[(df.team2 == 'Mumbai Indians'),'team2'] = 4\n",
        "df.loc[(df.winner == 'Mumbai Indians'),'winner'] = 4\n",
        "df.loc[(df.toss_winner == 'Mumbai Indians'),'toss_winner'] = 4\n",
        "df.loc[(df.team1 == 'Kolkata Knight Riders'),'team1'] = 5\n",
        "df.loc[(df.team2 == 'Kolkata Knight Riders'),'team2'] = 5\n",
        "df.loc[(df.winner == 'Kolkata Knight Riders'),'winner'] = 5\n",
        "df.loc[(df.toss_winner == 'Kolkata Knight Riders'),'toss_winner'] = 5\n",
        "df.loc[(df.team1 == 'Rajasthan Royals'),'team1'] = 6\n",
        "df.loc[(df.team2 == 'Rajasthan Royals'),'team2'] = 6\n",
        "df.loc[(df.winner == 'Rajasthan Royals'),'winner'] = 6\n",
        "df.loc[(df.toss_winner == 'Rajasthan Royals'),'toss_winner'] = 6\n",
        "df.loc[(df.team1 == 'Deccan Chargers'),'team1'] = 7\n",
        "df.loc[(df.team2 == 'Deccan Chargers'),'team2'] = 7\n",
        "df.loc[(df.winner == 'Deccan Chargers'),'winner'] = 7\n",
        "df.loc[(df.toss_winner == 'Deccan Chargers'),'toss_winner'] = 7\n",
        "df.loc[(df.team1 == 'Chennai Super Kings'),'team1'] = 8\n",
        "df.loc[(df.team2 == 'Chennai Super Kings'),'team2'] = 8\n",
        "df.loc[(df.winner == 'Chennai Super Kings'),'winner'] = 8\n",
        "df.loc[(df.toss_winner == 'Chennai Super Kings'),'toss_winner'] = 8\n",
        "df.loc[(df.team1 == 'Kochi Tuskers Kerala'),'team1'] = 9\n",
        "df.loc[(df.team2 == 'Kochi Tuskers Kerala'),'team2'] = 9\n",
        "df.loc[(df.winner == 'Kochi Tuskers Kerala'),'winner'] = 9\n",
        "df.loc[(df.toss_winner == 'Kochi Tuskers Kerala'),'toss_winner'] = 9\n",
        "df.loc[(df.team1 == 'Pune Warriors'),'team1'] = 10\n",
        "df.loc[(df.team2 == 'Pune Warriors'),'team2'] = 10\n",
        "df.loc[(df.winner == 'Pune Warriors'),'winner'] = 10\n",
        "df.loc[(df.toss_winner == 'Pune Warriors'),'toss_winner'] = 10\n",
        "df.loc[(df.team1 == 'Sunrisers Hyderabad'),'team1'] = 11\n",
        "df.loc[(df.team2 == 'Sunrisers Hyderabad'),'team2'] = 11\n",
        "df.loc[(df.winner == 'Sunrisers Hyderabad'),'winner'] = 11\n",
        "df.loc[(df.toss_winner == 'Sunrisers Hyderabad'),'toss_winner'] = 11\n",
        "df.loc[(df.team1 == 'Gujarat Lions'),'team1'] = 12\n",
        "df.loc[(df.team2 == 'Gujarat Lions'),'team2'] = 12\n",
        "df.loc[(df.winner == 'Gujarat Lions'),'winner'] = 12\n",
        "df.loc[(df.toss_winner == 'Gujarat Lions'),'toss_winner'] = 12\n",
        "df.loc[(df.team1 == 'Rising Pune Supergiants'),'team1'] = 13\n",
        "df.loc[(df.team2 == 'Rising Pune Supergiants'),'team2'] = 13\n",
        "df.loc[(df.winner == 'Rising Pune Supergiants'),'winner'] = 13\n",
        "df.loc[(df.toss_winner == 'Rising Pune Supergiants'),'toss_winner'] = 13\n",
        "df.loc[(df.team1 == 'Rising Pune Supergiant'),'team1'] = 13\n",
        "df.loc[(df.team2 == 'Rising Pune Supergiant'),'team2'] = 13\n",
        "df.loc[(df.winner == 'Rising Pune Supergiant'),'winner'] = 13\n",
        "df.loc[(df.toss_winner == 'Rising Pune Supergiant'),'toss_winner'] = 13\n",
        "df.loc[(df.team1 == 'Delhi Capitals'),'team1'] = 3\n",
        "df.loc[(df.team2 == 'Delhi Capitals'),'team2'] = 3\n",
        "df.loc[(df.winner == 'Delhi Capitals'),'winner'] = 3\n",
        "df.loc[(df.toss_winner == 'Delhi Capitals'),'toss_winner'] = 3"
      ],
      "metadata": {
        "id": "8TKOiQnaaT8P"
      },
      "id": "8TKOiQnaaT8P",
      "execution_count": 19,
      "outputs": []
    },
    {
      "cell_type": "code",
      "source": [
        "df['team1']  = df['team1'].astype(int)\n",
        "df['team2']  = df['team2'].astype(int)\n",
        "df['winner']  = df['winner'].astype(int)\n",
        "df['toss_winner']  = df['toss_winner'].astype(int)"
      ],
      "metadata": {
        "id": "P1i-B7MbcWiI"
      },
      "id": "P1i-B7MbcWiI",
      "execution_count": 20,
      "outputs": []
    },
    {
      "cell_type": "code",
      "source": [
        "print(df.dtypes)"
      ],
      "metadata": {
        "colab": {
          "base_uri": "https://localhost:8080/"
        },
        "id": "lmX7_rWjeb8H",
        "outputId": "c9f69f1b-99c4-479d-9e61-983f045133a4"
      },
      "id": "lmX7_rWjeb8H",
      "execution_count": 21,
      "outputs": [
        {
          "output_type": "stream",
          "name": "stdout",
          "text": [
            "id                   int64\n",
            "city                object\n",
            "date                object\n",
            "player_of_match     object\n",
            "venue               object\n",
            "neutral_venue        int64\n",
            "team1                int64\n",
            "team2                int64\n",
            "toss_winner          int64\n",
            "toss_decision        int64\n",
            "winner               int64\n",
            "result               int64\n",
            "result_margin      float64\n",
            "eliminator           int64\n",
            "umpire1             object\n",
            "umpire2             object\n",
            "dtype: object\n"
          ]
        }
      ]
    },
    {
      "cell_type": "code",
      "execution_count": 22,
      "id": "61d6c3ed",
      "metadata": {
        "id": "61d6c3ed"
      },
      "outputs": [],
      "source": [
        "df = df.drop(labels = ['id','date','city','player_of_match','venue','umpire1','umpire2'],axis=1);"
      ]
    },
    {
      "cell_type": "code",
      "source": [
        "print(df.dtypes)"
      ],
      "metadata": {
        "colab": {
          "base_uri": "https://localhost:8080/"
        },
        "id": "DyZLyq7gjphH",
        "outputId": "769852e0-6b71-4e94-d2f2-a943a28e6487"
      },
      "id": "DyZLyq7gjphH",
      "execution_count": 23,
      "outputs": [
        {
          "output_type": "stream",
          "name": "stdout",
          "text": [
            "neutral_venue      int64\n",
            "team1              int64\n",
            "team2              int64\n",
            "toss_winner        int64\n",
            "toss_decision      int64\n",
            "winner             int64\n",
            "result             int64\n",
            "result_margin    float64\n",
            "eliminator         int64\n",
            "dtype: object\n"
          ]
        }
      ]
    },
    {
      "cell_type": "code",
      "source": [
        "df['result_margin'] = df['result_margin'].astype(int)"
      ],
      "metadata": {
        "id": "bZlxU0PS1Fb-"
      },
      "id": "bZlxU0PS1Fb-",
      "execution_count": 24,
      "outputs": []
    },
    {
      "cell_type": "markdown",
      "source": [
        "**Plotting various Features of the data against the others selectively :**"
      ],
      "metadata": {
        "id": "_dRTBNpmZm_O"
      },
      "id": "_dRTBNpmZm_O"
    },
    {
      "cell_type": "code",
      "source": [
        "graph = df.plot(kind='scatter', x='toss_winner', y='winner', color = 'darkgreen')\n",
        "graph.set_xlabel(\"Toss_Winner\")\n",
        "graph.set_ylabel(\"Match_Winner\")\n",
        "print(graph)"
      ],
      "metadata": {
        "colab": {
          "base_uri": "https://localhost:8080/",
          "height": 297
        },
        "id": "41SPC2YuXykZ",
        "outputId": "5d74c893-f725-47b1-a8c8-96b94113ea58"
      },
      "id": "41SPC2YuXykZ",
      "execution_count": 25,
      "outputs": [
        {
          "output_type": "stream",
          "name": "stdout",
          "text": [
            "AxesSubplot(0.125,0.125;0.775x0.755)\n"
          ]
        },
        {
          "output_type": "display_data",
          "data": {
            "image/png": "[encoded data removed]",
            "text/plain": [
              "<Figure size 432x288 with 1 Axes>"
            ]
          },
          "metadata": {
            "needs_background": "light"
          }
        }
      ]
    },
    {
      "cell_type": "code",
      "source": [
        "graph_2 = df.plot(kind='scatter', x='team1', y='winner', color = 'blue')\n",
        "graph_2.set_xlabel(\"Team_1\")\n",
        "graph_2.set_ylabel(\"Match_Winner\")\n",
        "print(graph_2)"
      ],
      "metadata": {
        "colab": {
          "base_uri": "https://localhost:8080/",
          "height": 297
        },
        "id": "pKnnSMh_atxA",
        "outputId": "dc231ffe-2a53-4ebc-c52f-e359d594ed5a"
      },
      "id": "pKnnSMh_atxA",
      "execution_count": 26,
      "outputs": [
        {
          "output_type": "stream",
          "name": "stdout",
          "text": [
            "AxesSubplot(0.125,0.125;0.775x0.755)\n"
          ]
        },
        {
          "output_type": "display_data",
          "data": {
            "image/png": "[encoded data removed]",
            "text/plain": [
              "<Figure size 432x288 with 1 Axes>"
            ]
          },
          "metadata": {
            "needs_background": "light"
          }
        }
      ]
    },
    {
      "cell_type": "code",
      "source": [
        "graph_3 = df.plot(kind='scatter', x='team2', y='result', color = 'black')\n",
        "graph_3.set_xlabel(\"Team_2\")\n",
        "graph_3.set_ylabel(\"Result\")\n",
        "print(graph_3) "
      ],
      "metadata": {
        "colab": {
          "base_uri": "https://localhost:8080/",
          "height": 297
        },
        "id": "9VwfsT8VRAFO",
        "outputId": "7ece5d40-da63-47b9-f97d-55ead05cec88"
      },
      "id": "9VwfsT8VRAFO",
      "execution_count": 29,
      "outputs": [
        {
          "output_type": "stream",
          "name": "stdout",
          "text": [
            "AxesSubplot(0.125,0.125;0.775x0.755)\n"
          ]
        },
        {
          "output_type": "display_data",
          "data": {
            "image/png": "[encoded data removed]",
            "text/plain": [
              "<Figure size 432x288 with 1 Axes>"
            ]
          },
          "metadata": {
            "needs_background": "light"
          }
        }
      ]
    },
    {
      "cell_type": "markdown",
      "source": [
        "**Deep Learning Artificial Neural Network :**"
      ],
      "metadata": {
        "id": "haO-HENBaREE"
      },
      "id": "haO-HENBaREE"
    },
    {
      "cell_type": "code",
      "execution_count": 33,
      "id": "abc18523",
      "metadata": {
        "colab": {
          "base_uri": "https://localhost:8080/"
        },
        "id": "abc18523",
        "outputId": "a49f5c1e-a523-4765-bf6f-241e0664517d"
      },
      "outputs": [
        {
          "output_type": "stream",
          "name": "stdout",
          "text": [
            "Model: \"sequential\"\n",
            "_________________________________________________________________\n",
            " Layer (type)                Output Shape              Param #   \n",
            "=================================================================\n",
            " dense (Dense)               (None, 45)                405       \n",
            "                                                                 \n",
            " dense_1 (Dense)             (None, 20)                920       \n",
            "                                                                 \n",
            " dense_2 (Dense)             (None, 21)                441       \n",
            "                                                                 \n",
            " dense_3 (Dense)             (None, 20)                440       \n",
            "                                                                 \n",
            " dense_4 (Dense)             (None, 1)                 21        \n",
            "                                                                 \n",
            "=================================================================\n",
            "Total params: 2,227\n",
            "Trainable params: 2,227\n",
            "Non-trainable params: 0\n",
            "_________________________________________________________________\n"
          ]
        }
      ],
      "source": [
        "model = Sequential()\n",
        "model.add(Dense(45, activation='sigmoid', input_shape=(8,)))\n",
        "model.add(Dense(20, activation='tanh'))\n",
        "model.add(Dense(21, activation='relu'))\n",
        "model.add(Dense(20, activation='tanh'))\n",
        "model.add(Dense(1, activation='sigmoid'))\n",
        "model.summary()"
      ]
    },
    {
      "cell_type": "code",
      "execution_count": 132,
      "id": "ccfb7af0-42fd-4f68-9427-af44f70fcccf",
      "metadata": {
        "id": "ccfb7af0-42fd-4f68-9427-af44f70fcccf"
      },
      "outputs": [],
      "source": [
        "X = df[['neutral_venue','team1','team2','toss_winner','toss_decision',\n",
        "'result_margin','eliminator','winner']].values      \n",
        "y = df['result'].values  \n",
        "X_train,X_test,y_train,y_test = train_test_split(X,y,random_state = 40)\n",
        "X_train = tensorfloww.convert_to_tensor(X_train)\n",
        "X_test = tensorfloww.convert_to_tensor(X_test)\n",
        "y_train = tensorfloww.convert_to_tensor(y_train)\n",
        "y_test = tensorfloww.convert_to_tensor(y_test)\n"
      ]
    },
    {
      "cell_type": "code",
      "execution_count": 133,
      "id": "b5744936",
      "metadata": {
        "id": "b5744936"
      },
      "outputs": [],
      "source": [
        "model.compile(loss='mean_squared_error',optimizer=Adagrad(),metrics=['accuracy'])"
      ]
    },
    {
      "cell_type": "code",
      "execution_count": 134,
      "id": "c4b30350",
      "metadata": {
        "colab": {
          "base_uri": "https://localhost:8080/"
        },
        "id": "c4b30350",
        "outputId": "7691991c-b441-4b49-963a-266a3e218fc9"
      },
      "outputs": [
        {
          "output_type": "stream",
          "name": "stdout",
          "text": [
            "Epoch 1/2\n",
            "589/589 [==============================] - 3s 4ms/step - loss: 0.0659 - accuracy: 0.9236 - val_loss: 0.0652 - val_accuracy: 0.9253\n",
            "Epoch 2/2\n",
            "589/589 [==============================] - 3s 5ms/step - loss: 0.0656 - accuracy: 0.9253 - val_loss: 0.0649 - val_accuracy: 0.9253\n"
          ]
        },
        {
          "output_type": "execute_result",
          "data": {
            "text/plain": [
              "<keras.callbacks.History at 0x7f073ecdf110>"
            ]
          },
          "metadata": {},
          "execution_count": 134
        }
      ],
      "source": [
        "x_validate = X_train\n",
        "y_validate = y_train\n",
        "early_stopping = EarlyStopping()\n",
        "model.fit(X_train,y_train,epochs = 2,batch_size = 1,callbacks=[early_stopping],validation_data=(x_validate, y_validate))"
      ]
    },
    {
      "cell_type": "markdown",
      "source": [
        "**Deep-learning model's Scores :**"
      ],
      "metadata": {
        "id": "7ctdDTT-c_Uq"
      },
      "id": "7ctdDTT-c_Uq"
    },
    {
      "cell_type": "code",
      "execution_count": 135,
      "id": "50b75af1-1ab0-4c7d-bc20-9f4bee6d9ca4",
      "metadata": {
        "colab": {
          "base_uri": "https://localhost:8080/"
        },
        "id": "50b75af1-1ab0-4c7d-bc20-9f4bee6d9ca4",
        "outputId": "6c4f8ca5-02ad-49bf-d4fe-1ba0945f784b"
      },
      "outputs": [
        {
          "output_type": "stream",
          "name": "stdout",
          "text": [
            "Test-loss =  0.07671300321817398\n",
            "Test-accuracy =  0.9086294174194336\n"
          ]
        }
      ],
      "source": [
        "score = model.evaluate(X_test,y_test,verbose = 0)\n",
        "print(\"Test-loss = \",score[0])\n",
        "print(\"Test-accuracy = \",score[1])"
      ]
    },
    {
      "cell_type": "markdown",
      "source": [
        "**User-defined Test cases :**"
      ],
      "metadata": {
        "id": "i7M_1_8xc2by"
      },
      "id": "i7M_1_8xc2by"
    },
    {
      "cell_type": "code",
      "execution_count": 139,
      "id": "c87488eb",
      "metadata": {
        "colab": {
          "base_uri": "https://localhost:8080/"
        },
        "id": "c87488eb",
        "outputId": "1a102677-1662-4dcd-80b9-d0f34a17cc18"
      },
      "outputs": [
        {
          "output_type": "stream",
          "name": "stdout",
          "text": [
            "This Cricket Match was Bowler dominated !!! \n",
            "\n",
            "(BALL HEAVIED OVER THE BAT).\n"
          ]
        }
      ],
      "source": [
        "Team_1 = 10\n",
        "Team_2 = 13\n",
        "result = model.predict([[0,Team_1,Team_2,Team_2,1,2,1,Team_1]])\n",
        "if(abs(1-result)<abs(result-0)):\n",
        "  print(\"This Cricket Match was Batsmen dominated !!! \\n\\n(BAT HEAVIED OVER THE BALL).\")\n",
        "else:\n",
        " print(\"This Cricket Match was Bowler dominated !!! \\n\\n(BALL HEAVIED OVER THE BAT).\")"
      ]
    },
    {
      "cell_type": "code",
      "source": [
        "Team_1 = 11\n",
        "Team_2 = 1\n",
        "result = model.predict([[0,Team_1,Team_2,Team_2,1,2,1,Team_1]])\n",
        "if(abs(1-result)<abs(result-0)):\n",
        "  print(\"This Cricket Match was Batsmen dominated !!! \\n\\n(BAT HEAVIED OVER THE BALL).\")\n",
        "else:\n",
        " print(\"This Cricket Match was Bowler dominated !!! \\n\\n(BALL HEAVIED OVER THE BAT).\")"
      ],
      "metadata": {
        "colab": {
          "base_uri": "https://localhost:8080/"
        },
        "id": "J-wFgCnccNT2",
        "outputId": "96295efd-ea95-49b9-80b0-8ba12387e698"
      },
      "id": "J-wFgCnccNT2",
      "execution_count": 140,
      "outputs": [
        {
          "output_type": "stream",
          "name": "stdout",
          "text": [
            "This Cricket Match was Batsmen dominated !!! \n",
            "\n",
            "(BAT HEAVIED OVER THE BALL).\n"
          ]
        }
      ]
    }
  ],
  "metadata": {
    "kernelspec": {
      "display_name": "Python 3 (ipykernel)",
      "language": "python",
      "name": "python3"
    },
    "language_info": {
      "codemirror_mode": {
        "name": "ipython",
        "version": 3
      },
      "file_extension": ".py",
      "mimetype": "text/x-python",
      "name": "python",
      "nbconvert_exporter": "python",
      "pygments_lexer": "ipython3",
      "version": "3.9.7"
    },
    "colab": {
      "name": "ann.ipynb",
      "provenance": [],
      "collapsed_sections": []
    }
  },
  "nbformat": 4,
  "nbformat_minor": 5
}